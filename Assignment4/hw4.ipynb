{
 "cells": [
  {
   "cell_type": "markdown",
   "metadata": {},
   "source": [
    "# Assignment 4 - Control Theory (Artem Bakhanov)\n",
    "I have variant A and I used \"Artem\" as my name and \"a.bahanov@innopolis.university\" as my email for obtaining the variant.<br/>\n",
    "I am very lazy and I used Python for all the symbolic calculations (I love SymPy library).\n",
    "\n",
    "## Initial setup\n",
    "Here I create symbolic variables I will work with."
   ]
  },
  {
   "cell_type": "code",
   "execution_count": 1,
   "metadata": {},
   "outputs": [],
   "source": [
    "import sympy as sp\n",
    "import numpy as np\n",
    "\n",
    "# x and its first and second derivatives\n",
    "x = sp.Symbol(\"x\")\n",
    "x_ = sp.Symbol(\"x'\")\n",
    "x__ = sp.Symbol(\"x''\")\n",
    "\n",
    "# theta and its first and second derivatives\n",
    "theta = sp.Symbol(\"theta\")\n",
    "theta_ = sp.Symbol(\"\\\\theta^\\prime\")\n",
    "theta__ = sp.Symbol(\"\\\\theta^{\\prime\\prime}\")\n",
    "\n",
    "# other parameters\n",
    "m = sp.Symbol(\"m\")\n",
    "M = sp.Symbol(\"M\")\n",
    "l = sp.Symbol(\"l\")\n",
    "F = sp.Symbol(\"F\")\n",
    "g = sp.Symbol(\"g\")"
   ]
  },
  {
   "cell_type": "markdown",
   "metadata": {},
   "source": [
    "## Task A\n",
    "In this task I found matrices $M(q)$, $n(q, \\dot{q})$ and $B$. \n",
    "$$\n",
    "M = \\begin{pmatrix}\n",
    "M + m & -lm\\cos(\\theta)\\\\\n",
    "-\\cos(\\theta) & l\n",
    "\\end{pmatrix}\n",
    "= \\begin{pmatrix}\n",
    "8.5 & -3.68 \\cos(\\theta)\\\\\n",
    "-\\cos(\\theta) & 1.15\n",
    "\\end{pmatrix}\n",
    "$$\n",
    "$$\n",
    "n = \\begin{pmatrix}\n",
    "lm \\cdot (\\theta ')^2 \\sin(\\theta)\\\\\n",
    "-g\\sin(\\theta)\n",
    "\\end{pmatrix} = \n",
    "\\begin{pmatrix}\n",
    "3.68 \\cdot (\\theta ')^2 \\sin(\\theta) \\\\\n",
    "-g\\sin(\\theta)\n",
    "\\end{pmatrix}\n",
    "$$\n",
    "$$\n",
    "B = \\begin{pmatrix}\n",
    "1\\\\\n",
    "0\n",
    "\\end{pmatrix}\n",
    "$$"
   ]
  },
  {
   "cell_type": "code",
   "execution_count": 2,
   "metadata": {},
   "outputs": [],
   "source": [
    "M_ = sp.Matrix([[M + m, -m * l * sp.cos(theta)], [-sp.cos(theta), l]])\n",
    "n_ = sp.Matrix([[m * l * sp.sin(theta) * theta_ ** 2], [-g * sp.sin(theta)]])\n",
    "B_ = sp.Matrix([[1], [0]])"
   ]
  },
  {
   "cell_type": "markdown",
   "metadata": {},
   "source": [
    "## Task B\n",
    "Since I am very lazy to calculate everything by hand I found the inverse of M. Since f and g are just vectors (actually vector functions but anyway), the first two elements of f are simply $x$ and $\\theta$ and ones of g are 0s. The problem is with finding the last two elements. Let us use the result of task A.\n",
    "$$\n",
    "M(q)\\ddot{q} + n(q, \\dot{q}) = Bu\n",
    "$$\n",
    "$$\n",
    "M(q)\\ddot{q} = - n(q, \\dot{q}) + Bu\n",
    "$$\n",
    "$$\n",
    "\\ddot{q} = M(q)^{-1}(- n(q, \\dot{q}) + Bu)\n",
    "$$where $q = \\begin{bmatrix} x & \\theta\\end{bmatrix}^T$. \n",
    "Since $\\ddot{q}$ is what we are trying to find, $-M(q)^{-1} n(q, \\dot{q})$ and $M(q)^{-1}B$ are the last elements of $f$ and $g$ respectively.\n",
    "So the final answer:\n",
    "$$\n",
    "f(z) = \\left[\\begin{matrix}x'\\\\\\theta^\\prime\\\\\\frac{m \\left(g \\cos{\\left(\\theta \\right)} - l (\\theta ')^{2}\\right) \\sin{\\left(\\theta \\right)}}{M + m \\sin^{2}{\\left(\\theta \\right)}}\\\\\\frac{\\left(g \\left(M + m\\right) - l m (\\theta ')^{2} \\cos{\\left(\\theta \\right)}\\right) \\sin{\\left(\\theta \\right)}}{l \\left(M + m \\sin^{2}{\\left(\\theta \\right)}\\right)}\\end{matrix}\\right] = \\left[\\begin{matrix}x'\\\\\\theta^\\prime\\\\\\frac{3.2 \\left(g \\cos{\\left(\\theta \\right)} - 1.15 (\\theta ')^{2}\\right) \\sin{\\left(\\theta \\right)}}{3.2 \\sin^{2}{\\left(\\theta \\right)} + 5.3}\\\\\\frac{0.87 \\left(8.5 g - 3.68 (\\theta ')^{2} \\cos{\\left(\\theta \\right)}\\right) \\sin{\\left(\\theta \\right)}}{3.2 \\sin^{2}{\\left(\\theta \\right)} + 5.3}\\end{matrix}\\right]\n",
    "$$\n",
    "\n",
    "$$\n",
    "g(z) = \\left[\\begin{matrix}0\\\\0\\\\\\frac{1}{M + m \\sin^{2}{\\left(\\theta \\right)}}\\\\\\frac{\\cos{\\left(\\theta \\right)}}{l \\left(M + m \\sin^{2}{\\left(\\theta \\right)}\\right)}\\end{matrix}\\right] = \\left[\\begin{matrix}0\\\\0\\\\\\frac{1}{3.2 \\sin^{2}{\\left(\\theta \\right)} + 5.3}\\\\\\frac{0.87 \\cos{\\left(\\theta \\right)}}{3.2 \\sin^{2}{\\left(\\theta \\right)} + 5.3}\\end{matrix}\\right]\n",
    "$$"
   ]
  },
  {
   "cell_type": "code",
   "execution_count": 3,
   "metadata": {},
   "outputs": [
    {
     "data": {
      "text/latex": [
       "$\\displaystyle \\left[\\begin{matrix}\\frac{1}{M + m \\sin^{2}{\\left(\\theta \\right)}} & \\frac{m \\cos{\\left(\\theta \\right)}}{M + m \\sin^{2}{\\left(\\theta \\right)}}\\\\\\frac{\\cos{\\left(\\theta \\right)}}{l \\left(M + m \\sin^{2}{\\left(\\theta \\right)}\\right)} & \\frac{M + m}{l \\left(M + m \\sin^{2}{\\left(\\theta \\right)}\\right)}\\end{matrix}\\right]$"
      ],
      "text/plain": [
       "Matrix([\n",
       "[             1/(M + m*sin(theta)**2), m*cos(theta)/(M + m*sin(theta)**2)],\n",
       "[cos(theta)/(l*(M + m*sin(theta)**2)),  (M + m)/(l*(M + m*sin(theta)**2))]])"
      ]
     },
     "execution_count": 3,
     "metadata": {},
     "output_type": "execute_result"
    }
   ],
   "source": [
    "from IPython.core.interactiveshell import InteractiveShell\n",
    "InteractiveShell.ast_node_interactivity = 'all'\n",
    "subs = dict(zip([m, M, l], [3.2, 5.3, 1.15]))\n",
    "\n",
    "# find M inverse\n",
    "M_inv = sp.simplify(M_.inv())\n",
    "M_inv"
   ]
  },
  {
   "cell_type": "code",
   "execution_count": 4,
   "metadata": {
    "scrolled": false
   },
   "outputs": [
    {
     "data": {
      "text/latex": [
       "$\\displaystyle \\left[\\begin{matrix}x'\\\\\\theta^\\prime\\\\\\frac{m \\left(- \\left(\\theta^\\prime\\right)^{2} l + g \\cos{\\left(\\theta \\right)}\\right) \\sin{\\left(\\theta \\right)}}{M + m \\sin^{2}{\\left(\\theta \\right)}}\\\\- \\frac{\\left(\\left(\\theta^\\prime\\right)^{2} l m \\cos{\\left(\\theta \\right)} - g \\left(M + m\\right)\\right) \\sin{\\left(\\theta \\right)}}{l \\left(M + m \\sin^{2}{\\left(\\theta \\right)}\\right)}\\end{matrix}\\right]$"
      ],
      "text/plain": [
       "Matrix([\n",
       "[                                                                                 x'],\n",
       "[                                                                      \\theta^\\prime],\n",
       "[            m*(-\\theta^\\prime**2*l + g*cos(theta))*sin(theta)/(M + m*sin(theta)**2)],\n",
       "[-(\\theta^\\prime**2*l*m*cos(theta) - g*(M + m))*sin(theta)/(l*(M + m*sin(theta)**2))]])"
      ]
     },
     "execution_count": 4,
     "metadata": {},
     "output_type": "execute_result"
    },
    {
     "data": {
      "text/latex": [
       "$\\displaystyle \\left[\\begin{matrix}0\\\\0\\\\\\frac{1}{M + m \\sin^{2}{\\left(\\theta \\right)}}\\\\\\frac{\\cos{\\left(\\theta \\right)}}{l \\left(M + m \\sin^{2}{\\left(\\theta \\right)}\\right)}\\end{matrix}\\right]$"
      ],
      "text/plain": [
       "Matrix([\n",
       "[                                   0],\n",
       "[                                   0],\n",
       "[             1/(M + m*sin(theta)**2)],\n",
       "[cos(theta)/(l*(M + m*sin(theta)**2))]])"
      ]
     },
     "execution_count": 4,
     "metadata": {},
     "output_type": "execute_result"
    }
   ],
   "source": [
    "f_2 = sp.simplify(-M_inv * n_)  # the last two elements of f\n",
    "g_2 = sp.simplify(M_inv * B_)  # the last two elements of g\n",
    "\n",
    "# f and g\n",
    "f_ = sp.simplify(sp.Matrix([[x_], [theta_], [f_2[0]], [f_2[1]]]))\n",
    "g_ = sp.simplify(sp.Matrix([[0], [0], [g_2[0]], [g_2[1]]]))\n",
    "\n",
    "# printing f and g out\n",
    "f_\n",
    "g_"
   ]
  },
  {
   "cell_type": "markdown",
   "metadata": {},
   "source": [
    "## Task C\n",
    "Linearazation was made automatically again.\n",
    "$$\n",
    "A = \\left[\\begin{matrix}0 & 0 & 1 & 0\\\\0 & 0 & 0 & 1\\\\0 & \\frac{g m}{M} & 0 & 0\\\\0 & \\frac{g \\left(M + m\\right)}{M l} & 0 & 0\\end{matrix}\\right] = \\left[\\begin{matrix}0 & 0 & 1 & 0\\\\0 & 0 & 0 & 1\\\\0 & 5.92 & 0 & 0\\\\0 & 13.68 & 0 & 0\\end{matrix}\\right]\n",
    "$$\n",
    "\n",
    "$$\n",
    "B = \\left[\\begin{matrix}0\\\\0\\\\\\frac{1}{M}\\\\\\frac{1}{M l}\\end{matrix}\\right] = \\left[\\begin{matrix}0\\\\0\\\\0.19\\\\0.16\\end{matrix}\\right]\n",
    "$$"
   ]
  },
  {
   "cell_type": "code",
   "execution_count": 5,
   "metadata": {
    "scrolled": true
   },
   "outputs": [
    {
     "data": {
      "text/latex": [
       "$\\displaystyle \\left[\\begin{matrix}0 & 0 & 1 & 0\\\\0 & 0 & 0 & 1\\\\0 & \\frac{g m}{M} & 0 & 0\\\\0 & \\frac{g \\left(M + m\\right)}{M l} & 0 & 0\\end{matrix}\\right]$"
      ],
      "text/plain": [
       "Matrix([\n",
       "[0,               0, 1, 0],\n",
       "[0,               0, 0, 1],\n",
       "[0,           g*m/M, 0, 0],\n",
       "[0, g*(M + m)/(M*l), 0, 0]])"
      ]
     },
     "execution_count": 5,
     "metadata": {},
     "output_type": "execute_result"
    },
    {
     "data": {
      "text/latex": [
       "$\\displaystyle \\left[\\begin{matrix}0\\\\0\\\\\\frac{1}{M}\\\\\\frac{1}{M l}\\end{matrix}\\right]$"
      ],
      "text/plain": [
       "Matrix([\n",
       "[      0],\n",
       "[      0],\n",
       "[    1/M],\n",
       "[1/(M*l)]])"
      ]
     },
     "execution_count": 5,
     "metadata": {},
     "output_type": "execute_result"
    }
   ],
   "source": [
    "# states\n",
    "states = [x, theta, x_, theta_]\n",
    "\n",
    "# input\n",
    "inputs = [F]\n",
    "\n",
    "# matrices Ad and Bd\n",
    "# here I create a Jacobian matrix. \n",
    "# Each line is a partial derivative of f_i (f) \n",
    "Ad = sp.Matrix([[sp.diff(f, x) for x in states] for f in f_])\n",
    "\n",
    "# Bd is simply g since it is already multiplied by u. There is no need to calculate Jacobian.\n",
    "Bd = g_\n",
    "\n",
    "# dict of subtitutions for desired states\n",
    "desired_states = dict(zip([x, theta, x_, theta_], [0, 0, 0, 0]))\n",
    "\n",
    "# all substitutions (check variant A)\n",
    "subs = dict(zip([m, M, l, g], [3.2, 5.3, 1.15, 9.81]))\n",
    "\n",
    "# matrix A and B (without parameters substituting)\n",
    "Ad.subs(desired_states)\n",
    "Bd.subs(desired_states)"
   ]
  },
  {
   "cell_type": "code",
   "execution_count": 6,
   "metadata": {},
   "outputs": [
    {
     "data": {
      "text/latex": [
       "$\\displaystyle \\left[\\begin{matrix}0 & 0 & 1 & 0\\\\0 & 0 & 0 & 1\\\\0 & 5.92301886792453 & 0 & 0\\\\0 & 13.6808859721083 & 0 & 0\\end{matrix}\\right]$"
      ],
      "text/plain": [
       "Matrix([\n",
       "[0,                0, 1, 0],\n",
       "[0,                0, 0, 1],\n",
       "[0, 5.92301886792453, 0, 0],\n",
       "[0, 13.6808859721083, 0, 0]])"
      ]
     },
     "execution_count": 6,
     "metadata": {},
     "output_type": "execute_result"
    },
    {
     "data": {
      "text/latex": [
       "$\\displaystyle \\left[\\begin{matrix}0\\\\0\\\\0.188679245283019\\\\0.164068908941756\\end{matrix}\\right]$"
      ],
      "text/plain": [
       "Matrix([\n",
       "[                0],\n",
       "[                0],\n",
       "[0.188679245283019],\n",
       "[0.164068908941756]])"
      ]
     },
     "execution_count": 6,
     "metadata": {},
     "output_type": "execute_result"
    }
   ],
   "source": [
    "# final matrices with substituted numbers\n",
    "\n",
    "A_ = Ad.subs(subs).subs(desired_states)\n",
    "B_ = Bd.subs(subs).subs(desired_states)\n",
    "A = np.array(A_.tolist()).astype(np.float64)\n",
    "B = np.array(B_.tolist()).astype(np.float64)\n",
    "A_\n",
    "B_"
   ]
  },
  {
   "cell_type": "markdown",
   "metadata": {},
   "source": [
    "## Task D\n",
    "Here I use test presented on the lab. The system is controllable if \n",
    "$\n",
    "rank([B \\ AB \\ ... \\ A^{n-1}B)]) = n\n",
    "$.<br/>\n",
    "In our case n = 4. Let us verify it."
   ]
  },
  {
   "cell_type": "code",
   "execution_count": 7,
   "metadata": {},
   "outputs": [],
   "source": [
    "assert(np.linalg.matrix_rank(np.block([[B, A.dot(B), A.dot(A).dot(B), A.dot(A).dot(A).dot(B)]])) == 4)"
   ]
  },
  {
   "cell_type": "markdown",
   "metadata": {},
   "source": [
    "No exception! It means that the system is controllable."
   ]
  },
  {
   "cell_type": "markdown",
   "metadata": {},
   "source": [
    "## Task E\n",
    "Calculating the eigen values of the linearized system."
   ]
  },
  {
   "cell_type": "code",
   "execution_count": 8,
   "metadata": {
    "scrolled": true
   },
   "outputs": [
    {
     "data": {
      "text/plain": [
       "array([ 0.        ,  0.        ,  3.69876817, -3.69876817])"
      ]
     },
     "execution_count": 8,
     "metadata": {},
     "output_type": "execute_result"
    }
   ],
   "source": [
    "np.linalg.eig(A)[0]"
   ]
  },
  {
   "cell_type": "markdown",
   "metadata": {},
   "source": [
    "The system is not stable since there is one eigen value with positive real part."
   ]
  },
  {
   "cell_type": "markdown",
   "metadata": {},
   "source": [
    "## Task F\n",
    "For this task I used SciPy library with module signal."
   ]
  },
  {
   "cell_type": "code",
   "execution_count": 9,
   "metadata": {},
   "outputs": [],
   "source": [
    "from scipy.signal import place_poles\n",
    "import matplotlib.pyplot as plt\n",
    "from scipy.integrate import *\n",
    "from IPython.core.interactiveshell import InteractiveShell\n",
    "InteractiveShell.ast_node_interactivity = 'last'\n",
    "\n",
    "def stepinfo(t,yout):\n",
    "    print(f\"Overshoot: {(yout.max() - yout[-1])}\")\n",
    "    print(f\"Rise Time: {t[([0] + [i for i in range(0, len(yout)-1) if yout[i]>yout[-1] * .90])[-1]]-t[0]}\")\n",
    "    print(f\"Settling Time: {t[next(len(yout)-i for i in range(2,len(yout)-1) if abs(yout[-i]/yout[-1])>1.02)]-t[0]}\")\n",
    "    \n",
    "def subplot(pos, t, res):\n",
    "    plt.subplot(pos)\n",
    "    res = res.T\n",
    "    for i in range(len(res)):\n",
    "        plt.plot(t, res[i], label=\"test\")"
   ]
  },
  {
   "cell_type": "code",
   "execution_count": 10,
   "metadata": {
    "scrolled": true
   },
   "outputs": [
    {
     "data": {
      "image/png": "[encoded data removed]",
      "text/plain": [
       "<Figure size 432x288 with 4 Axes>"
      ]
     },
     "metadata": {
      "needs_background": "light"
     },
     "output_type": "display_data"
    }
   ],
   "source": [
    "K = place_poles(A, B, [-1, -1.2, -1.3, -1.4]).gain_matrix \n",
    "A_cl = A - B.dot(K)\n",
    "np.linalg.eig(A_cl)[0]\n",
    "\n",
    "t = np.linspace(0, 10, 1000)\n",
    "\n",
    "def df(x, t):\n",
    "    x = np.array(x).reshape(4, 1)\n",
    "    return list(np.matmul(A_cl, x).T[0])\n",
    "res1 = odeint(df, [-2, 3, 0, 0], t)\n",
    "res2 = odeint(df, [1.5, 0, -3, 1], t)\n",
    "res3 = odeint(df, [10, 0.2, 15, 0], t)\n",
    "res4 = odeint(df, [0, 2, 0, 0], t)\n",
    "\n",
    "subplot(221, t, res1)\n",
    "subplot(222, t, res2)\n",
    "subplot(223, t, res3)\n",
    "subplot(224, t, res4)\n",
    "plt.show()"
   ]
  },
  {
   "cell_type": "markdown",
   "metadata": {},
   "source": [
    "As you can see, the system goes well to the desired position $(0, 0, 0, 0)^T$"
   ]
  },
  {
   "cell_type": "code",
   "execution_count": 11,
   "metadata": {},
   "outputs": [
    {
     "name": "stdout",
     "output_type": "stream",
     "text": [
      "Overshoot: 0.0\n",
      "Rise Time: 0.0\n",
      "Settling Time: 9.96996996996997\n",
      "Overshoot: 2.989736475204101\n",
      "Rise Time: 9.98998998998999\n",
      "Settling Time: 9.96996996996997\n",
      "Res 2:\n",
      "Overshoot: 1.5261776450246798\n",
      "Rise Time: 0.36036036036036034\n",
      "Settling Time: 9.96996996996997\n",
      "Overshoot: 0.07791883665628939\n",
      "Rise Time: 9.98998998998999\n",
      "Settling Time: 9.96996996996997\n"
     ]
    }
   ],
   "source": [
    "stepinfo(t, res1.T[0])\n",
    "stepinfo(t, res1.T[1])\n",
    "print(\"Res 2:\")\n",
    "stepinfo(t, res2.T[0])\n",
    "stepinfo(t, res2.T[1])"
   ]
  },
  {
   "cell_type": "markdown",
   "metadata": {},
   "source": [
    "## Task G\n",
    "For this task I designed an LQR controller. The matrices Q and R were adjusted by hand.\n",
    "In this task I can tell that it the system stabilizes much faster and better (look below)."
   ]
  },
  {
   "cell_type": "code",
   "execution_count": 12,
   "metadata": {},
   "outputs": [],
   "source": [
    "from control import *\n",
    "from scipy.signal import place_poles\n",
    "import matplotlib.pyplot as plt\n",
    "from scipy.integrate import *\n",
    "from IPython.core.interactiveshell import InteractiveShell\n",
    "InteractiveShell.ast_node_interactivity = 'last'\n",
    "from math import *\n",
    "\n",
    "def subplot(pos, t, res):\n",
    "    plt.subplot(pos)\n",
    "    res = res.T\n",
    "    for i in range(len(res)):\n",
    "        plt.plot(t, res[i], label=\"test\")"
   ]
  },
  {
   "cell_type": "code",
   "execution_count": 13,
   "metadata": {
    "scrolled": true
   },
   "outputs": [
    {
     "name": "stdout",
     "output_type": "stream",
     "text": [
      "[[-15.8113883  328.85784213 -32.26899057 101.27906058]]\n",
      "Eig: [-4.70013752+0.j         -3.36443707+0.j         -1.23184079+0.30313026j\n",
      " -1.23184079-0.30313026j]\n"
     ]
    },
    {
     "data": {
      "image/png": "[encoded data removed]",
      "text/plain": [
       "<Figure size 432x288 with 4 Axes>"
      ]
     },
     "metadata": {
      "needs_background": "light"
     },
     "output_type": "display_data"
    }
   ],
   "source": [
    "R = np.array([\n",
    "    [25, 0, 0, 0],\n",
    "    [0, 0.0003, 0, 0],\n",
    "    [0, 0, 25, 0],\n",
    "    [0, 0, 0, 0.0003]\n",
    "])\n",
    "Q = np.array([[0.1]])\n",
    "K, S, E = lqr(A, B, R, Q)\n",
    "K = np.array(K)\n",
    "print(K)\n",
    "\n",
    "A_cl = A - B.dot(K)\n",
    "print(f\"Eig: {np.linalg.eig(A_cl)[0]}\")\n",
    "\n",
    "t = np.linspace(0, 10, 1000)\n",
    "\n",
    "def df(x, t):\n",
    "    x = np.array(x).reshape(4, 1)\n",
    "    return list(np.matmul(A_cl, x).T[0])\n",
    "res1 = odeint(df, [-2, 3, 0, 0], t)\n",
    "res2 = odeint(df, [1.5, 0, -3, 1], t)\n",
    "res3 = odeint(df, [10, 0.2, 15, 0], t)\n",
    "res4 = odeint(df, [0, 2, 0, 0], t)\n",
    "\n",
    "subplot(221, t, res1)\n",
    "subplot(222, t, res2)\n",
    "subplot(223, t, res3)\n",
    "subplot(224, t, res4)\n",
    "plt.show()"
   ]
  },
  {
   "cell_type": "code",
   "execution_count": 14,
   "metadata": {},
   "outputs": [
    {
     "name": "stdout",
     "output_type": "stream",
     "text": [
      "Res 1:\n",
      "Overshoot: 0.0\n",
      "Rise Time: 0.0\n",
      "Settling Time: 9.98998998998999\n",
      "Overshoot: 2.9999180579347073\n",
      "Rise Time: 9.98998998998999\n",
      "Settling Time: 9.97997997997998\n",
      "Res 2:\n",
      "Overshoot: 1.5000286375733218\n",
      "Rise Time: 0.2902902902902903\n",
      "Settling Time: 9.98998998998999\n",
      "Overshoot: 0.03647336282589482\n",
      "Rise Time: 9.98998998998999\n",
      "Settling Time: 9.97997997997998\n"
     ]
    }
   ],
   "source": [
    "print(\"Res 1:\")\n",
    "stepinfo(t, res1.T[0])\n",
    "stepinfo(t, res1.T[1])\n",
    "print(\"Res 2:\")\n",
    "stepinfo(t, res2.T[0])\n",
    "stepinfo(t, res2.T[1])"
   ]
  },
  {
   "cell_type": "markdown",
   "metadata": {},
   "source": [
    "Here I compared these two methods on first two initial conditions: as you can see the second method (LQR controller) is much better since it has smaller overshoot and settling time."
   ]
  },
  {
   "cell_type": "code",
   "execution_count": null,
   "metadata": {},
   "outputs": [],
   "source": []
  },
  {
   "cell_type": "code",
   "execution_count": 16,
   "metadata": {},
   "outputs": [
    {
     "data": {
      "text/latex": [
       "$\\displaystyle \\left[\\begin{matrix}0\\\\0\\\\- \\frac{2 m \\sin{\\left(\\theta \\right)} \\cos{\\left(\\theta \\right)}}{\\left(M + m \\sin^{2}{\\left(\\theta \\right)}\\right)^{2}}\\\\- \\frac{2 m \\sin{\\left(\\theta \\right)} \\cos^{2}{\\left(\\theta \\right)}}{l \\left(M + m \\sin^{2}{\\left(\\theta \\right)}\\right)^{2}} - \\frac{\\sin{\\left(\\theta \\right)}}{l \\left(M + m \\sin^{2}{\\left(\\theta \\right)}\\right)}\\end{matrix}\\right]$"
      ],
      "text/plain": [
       "Matrix([\n",
       "[                                                                                                0],\n",
       "[                                                                                                0],\n",
       "[                                              -2*m*sin(theta)*cos(theta)/(M + m*sin(theta)**2)**2],\n",
       "[-2*m*sin(theta)*cos(theta)**2/(l*(M + m*sin(theta)**2)**2) - sin(theta)/(l*(M + m*sin(theta)**2))]])"
      ]
     },
     "execution_count": 16,
     "metadata": {},
     "output_type": "execute_result"
    }
   ],
   "source": [
    "sp.diff(g_, theta)"
   ]
  },
  {
   "cell_type": "code",
   "execution_count": null,
   "metadata": {},
   "outputs": [],
   "source": [
    "    "
   ]
  }
 ],
 "metadata": {
  "kernelspec": {
   "display_name": "Python 3",
   "language": "python",
   "name": "python3"
  },
  "language_info": {
   "codemirror_mode": {
    "name": "ipython",
    "version": 3
   },
   "file_extension": ".py",
   "mimetype": "text/x-python",
   "name": "python",
   "nbconvert_exporter": "python",
   "pygments_lexer": "ipython3",
   "version": "3.7.3"
  }
 },
 "nbformat": 4,
 "nbformat_minor": 4
}
