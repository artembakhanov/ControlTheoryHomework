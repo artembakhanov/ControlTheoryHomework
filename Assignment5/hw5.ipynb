{
 "cells": [
  {
   "cell_type": "markdown",
   "metadata": {},
   "source": [
    "# Assignment 5 - Control Theory (Artem Bakhanov)\n",
    "I have variant **A** and I used \"Artem\" as my name and \"a.bahanov@innopolis.university\" as my email for obtaining the variant.<br/>\n",
    "From the previous assignment (but numbers are different!!!): \n",
    "$$\n",
    "A = \\left[\\begin{matrix}0 & 0 & 1 & 0\\\\0 & 0 & 0 & 1\\\\0 & \\frac{g m}{M} & 0 & 0\\\\0 & \\frac{g \\left(M + m\\right)}{M l} & 0 & 0\\end{matrix}\\right] = \\left[\\begin{matrix}0 & 0 & 1 & 0\\\\0 & 0 & 0 & 1\\\\0 & 5.7552 & 0 & 0\\\\0 & 12.971 & 0 & 0\\end{matrix}\\right]\n",
    "$$\n",
    "\n",
    "$$\n",
    "B = \\left[\\begin{matrix}0\\\\0\\\\\\frac{1}{M}\\\\\\frac{1}{M l}\\end{matrix}\\right] = \\left[\\begin{matrix}0\\\\0\\\\0.133\\\\0.111\\end{matrix}\\right]\n",
    "$$"
   ]
  },
  {
   "cell_type": "code",
   "execution_count": 1,
   "metadata": {},
   "outputs": [],
   "source": [
    "import numpy as np"
   ]
  },
  {
   "cell_type": "markdown",
   "metadata": {},
   "source": [
    "Since we are insterested only in $x$ and $\\theta$ we just extract them using C matrix."
   ]
  },
  {
   "cell_type": "code",
   "execution_count": 2,
   "metadata": {},
   "outputs": [],
   "source": [
    "A = np.array([ [ 0.    ,  0.    ,  1.    ,  0.    ],\n",
    "               [ 0.    ,  0.    ,  0.    ,  1.    ],\n",
    "               [ 0.    ,  5.7552,  0.    ,  0.    ],\n",
    "               [ 0.    , 12.971 ,  0.    ,  0.    ]])\n",
    "B = np.array([ [0.        ],\n",
    "               [0.        ],\n",
    "               [0.13333333],\n",
    "               [0.11111111]])\n",
    "C = np.array([ [ 1.        ,  0.        ,  0.        ,  0.        ],\n",
    "               [ 0.        ,  1.        ,  0.        ,  0.        ]])"
   ]
  },
  {
   "cell_type": "code",
   "execution_count": 3,
   "metadata": {},
   "outputs": [
    {
     "name": "stdout",
     "output_type": "stream",
     "text": [
      "[[1. 0. 0. 0.]\n",
      " [0. 1. 0. 0.]]\n"
     ]
    }
   ],
   "source": [
    "print(C)"
   ]
  },
  {
   "cell_type": "markdown",
   "metadata": {},
   "source": [
    "## Task A\n",
    "Let us calculate observability matrix \n",
    "$$\\Omega = \\left[\\begin{matrix}C\\\\CA\\\\CA^2\\\\CA^3\\end{matrix}\\right]$$ and check its rank. It should be $n = 4$."
   ]
  },
  {
   "cell_type": "code",
   "execution_count": 4,
   "metadata": {},
   "outputs": [
    {
     "name": "stdout",
     "output_type": "stream",
     "text": [
      "[[ 1.      0.      0.      0.    ]\n",
      " [ 0.      1.      0.      0.    ]\n",
      " [ 0.      0.      1.      0.    ]\n",
      " [ 0.      0.      0.      1.    ]\n",
      " [ 0.      5.7552  0.      0.    ]\n",
      " [ 0.     12.971   0.      0.    ]\n",
      " [ 0.      0.      0.      5.7552]\n",
      " [ 0.      0.      0.     12.971 ]]\n"
     ]
    }
   ],
   "source": [
    "omega = np.block([[C], [C.dot(A)], [C.dot(A).dot(A)], [C.dot(A).dot(A).dot(A)]])\n",
    "print(omega)\n",
    "assert(np.linalg.matrix_rank(omega) == 4)"
   ]
  },
  {
   "cell_type": "markdown",
   "metadata": {},
   "source": [
    "No exception! It means that the rank of the matrix is 4 and the system is observable."
   ]
  },
  {
   "cell_type": "markdown",
   "metadata": {},
   "source": [
    "## Task B\n",
    "In the open-loop observer It happens out that it depends on matrix A. Let's look:\n",
    "$${\\dot{x} - \\dot{\\hat{x}}} = \\dot{\\tilde{x}} = A(x - \\hat{x}) = A \\tilde{x}$$\n",
    "You can find the proof here: https://ocw.mit.edu/courses/aeronautics-and-astronautics/16-30-feedback-control-systems-fall-2010/lecture-notes/MIT16_30F10_lec14.pdf on pages 4-5"
   ]
  },
  {
   "cell_type": "code",
   "execution_count": 5,
   "metadata": {},
   "outputs": [
    {
     "data": {
      "text/plain": [
       "array([ 0.        ,  0.        ,  3.60152745, -3.60152745])"
      ]
     },
     "execution_count": 5,
     "metadata": {},
     "output_type": "execute_result"
    }
   ],
   "source": [
    "np.linalg.eig(A)[0]"
   ]
  },
  {
   "cell_type": "markdown",
   "metadata": {},
   "source": [
    "The error dynamics for the open-loop observer is not stable, one eigen value is positive."
   ]
  },
  {
   "cell_type": "markdown",
   "metadata": {},
   "source": [
    "## Task C"
   ]
  },
  {
   "cell_type": "markdown",
   "metadata": {},
   "source": [
    "Again, from the source that I meantioned above, we can design Luenberger observer using 2 approaches. The dynamics of the closed-loop observer. \n",
    "$$\\dot{\\tilde{x}} = (A-LC) \\tilde{x}$$\n",
    "We are trying to find L, so the system above is stable and goes to 0. (I do not forget about dual problem!)\n",
    "### Pole placement\n",
    "For this part I used scipy library."
   ]
  },
  {
   "cell_type": "code",
   "execution_count": 6,
   "metadata": {},
   "outputs": [
    {
     "data": {
      "text/plain": [
       "array([-1. , -1.4, -1.2, -1.3])"
      ]
     },
     "execution_count": 6,
     "metadata": {},
     "output_type": "execute_result"
    }
   ],
   "source": [
    "from scipy.signal import place_poles\n",
    "poles = [-1, -1.2, -1.3, -1.4]\n",
    "L = place_poles(A.T, C.T, poles).gain_matrix.T\n",
    "\n",
    "np.linalg.eig(A - np.matmul(L, C))[0]"
   ]
  },
  {
   "cell_type": "markdown",
   "metadata": {},
   "source": [
    "As you can see, the closed-loop system is now stable, so the observer is working. The solution for this is exponenent so eventually the error will be 0.\n",
    "$$\n",
    "L = \\begin{bmatrix}\n",
    "  2.45 & 0.15\\\\\n",
    "  0.15 & 2.45\\\\\n",
    "  1.49 & 5.9452\\\\\n",
    "  0.19 & 14.461\\\\\n",
    "\\end{bmatrix}\n",
    "$$\n",
    "### LQR\n",
    "Here I used only identity matrices. The result system is stable. So the observer is designed!\n",
    "$$L = \\begin{bmatrix}\n",
    "  2.3283553 & 1.85880394\\\\\n",
    "  1.85880394 & 6.75629478\\\\\n",
    "  3.93819523 & 10.06947228\\\\\n",
    "  6.81711105 & 24.05133564\\\\\n",
    "\\end{bmatrix}$$"
   ]
  },
  {
   "cell_type": "code",
   "execution_count": 7,
   "metadata": {},
   "outputs": [
    {
     "data": {
      "text/plain": [
       "array([-0.92460665+0.50614079j, -0.92460665-0.50614079j,\n",
       "       -3.08443169+0.j        , -4.15100508+0.j        ])"
      ]
     },
     "execution_count": 7,
     "metadata": {},
     "output_type": "execute_result"
    }
   ],
   "source": [
    "from control import *\n",
    "Q = np.array([\n",
    "    [1, 0, 0, 0],\n",
    "    [0, 1, 0, 0],\n",
    "    [0, 0, 1, 0],\n",
    "    [0, 0, 0, 1]\n",
    "])\n",
    "R = np.array([[1, 0], [0, 1]])\n",
    "L, S, E = lqr(A.T, C.T, Q, R)\n",
    "L = L.T\n",
    "np.linalg.eig(A - np.matmul(L, C))[0]"
   ]
  },
  {
   "cell_type": "code",
   "execution_count": 8,
   "metadata": {},
   "outputs": [
    {
     "name": "stdout",
     "output_type": "stream",
     "text": [
      "[[ 2.3283553   1.85880394]\n",
      " [ 1.85880394  6.75629478]\n",
      " [ 3.93819523 10.06947228]\n",
      " [ 6.81711105 24.05133564]]\n"
     ]
    }
   ],
   "source": [
    "print(L)"
   ]
  },
  {
   "cell_type": "code",
   "execution_count": 9,
   "metadata": {},
   "outputs": [],
   "source": [
    "def bmatrix(a):\n",
    "    \"\"\"Returns a LaTeX bmatrix\n",
    "\n",
    "    :a: numpy array\n",
    "    :returns: LaTeX bmatrix as a string\n",
    "    \"\"\"\n",
    "    if len(a.shape) > 2:\n",
    "        raise ValueError('bmatrix can at most display two dimensions')\n",
    "    lines = str(a).replace('[', '').replace(']', '').splitlines()\n",
    "    rv = [r'\\begin{bmatrix}']\n",
    "    rv += ['  ' + ' & '.join(l.split()) + r'\\\\' for l in lines]\n",
    "    rv +=  [r'\\end{bmatrix}']\n",
    "    return '\\n'.join(rv)"
   ]
  },
  {
   "cell_type": "markdown",
   "metadata": {},
   "source": [
    "## Task D\n",
    "For this task I used the previous homework. Just copying it here:)"
   ]
  },
  {
   "cell_type": "code",
   "execution_count": 10,
   "metadata": {},
   "outputs": [
    {
     "data": {
      "image/png": "[encoded data removed]",
      "text/plain": [
       "<Figure size 432x288 with 4 Axes>"
      ]
     },
     "metadata": {
      "needs_background": "light"
     },
     "output_type": "display_data"
    }
   ],
   "source": [
    "from scipy.integrate import *\n",
    "import matplotlib.pyplot as plt\n",
    "\n",
    "\n",
    "def subplot(pos, t, res):\n",
    "    plt.subplot(pos)\n",
    "    res = res.T\n",
    "    for i in range(len(res)):\n",
    "        plt.plot(t, res[i], label=\"test\")\n",
    "\n",
    "K = place_poles(A, B, [-1, -1.2, -1.3, -1.4]).gain_matrix \n",
    "A_cl = A - B.dot(K)\n",
    "np.linalg.eig(A_cl)[0]\n",
    "\n",
    "t = np.linspace(0, 10, 1000)\n",
    "\n",
    "def df(x, t):\n",
    "    x = np.array(x).reshape(4, 1)\n",
    "    return list(np.matmul(A_cl, x).T[0])\n",
    "res1 = odeint(df, [-2, 3, 0, 0], t)\n",
    "res2 = odeint(df, [1.5, 0, -3, 1], t)\n",
    "res3 = odeint(df, [10, 0.2, 15, 0], t)\n",
    "res4 = odeint(df, [0, 2, 0, 0], t)\n",
    "\n",
    "subplot(221, t, res1)\n",
    "subplot(222, t, res2)\n",
    "subplot(223, t, res3)\n",
    "subplot(224, t, res4)\n",
    "plt.show()"
   ]
  },
  {
   "cell_type": "markdown",
   "metadata": {},
   "source": [
    "## Task E"
   ]
  },
  {
   "cell_type": "markdown",
   "metadata": {},
   "source": [
    "For this task (F and G) I used Simulink (you can find schemes in the project files). Note, that you need to load variables into your simulink work space. The function blok is nonlinear system (I just took 2nd part of the previous homework). Matrix L is taken from the previous task (Pole placement).\n",
    "<img src=\"images/E_1.png\" style=\"height=50%;width:50%\"/>\n",
    "\n",
    "<img src=\"images/E_2.png\" style=\"height=100%;width:100%\"/>\n",
    "Error dynamics (for input 1). As you can see it goes to 0 even if the observer did not know the initial state.\n",
    "\n",
    "\n",
    "### Input 1 ([0.1; 0; 0; 0]) - Controlled System\n",
    "<img src=\"images/E_3.png\" style=\"height=70%;width:70%\"/>\n",
    "\n",
    "### Input 2 ([0; 0.2; 0; 0]) - Controlled System\n",
    "<img src=\"images/E_4.png\" style=\"height=70%;width:70%\"/>\n",
    "\n",
    "### Input 3 ([-0.13; 0.1; 0; 0]) - Controlled System\n",
    "<img src=\"images/E_5.png\" style=\"height=70%;width:70%\"/>\n",
    "\n",
    "As you can see, the system is stabilizing even on observer-based feedback controller. That means that the Luenberger observer is very powerful even for such tasks. Also the most fascinating fact is that the system that is used by Luenberger observer is linear. "
   ]
  },
  {
   "cell_type": "markdown",
   "metadata": {},
   "source": [
    "## Task F"
   ]
  },
  {
   "cell_type": "markdown",
   "metadata": {},
   "source": [
    "<img src=\"images/E_7.png\" style=\"height=60%;width:60%\"/>\n",
    "As you can see, I added awgn block to the system with parameters (initial seed: 34, variance: 0.01). In this case the system is not able to be stabilized since the observer gets wrong information and the controller sends wrong signals there. An example is below.\n",
    "\n",
    "### Input 3 ([-0.13; 0.1; 0; 0]) - System with WGN on the output\n",
    "<img src=\"images/E_6.png\" style=\"height=70%;width:70%\"/>"
   ]
  },
  {
   "cell_type": "markdown",
   "metadata": {},
   "source": [
    "## Task G\n",
    "I solved this task for two cases.\n",
    "### You meant adding noise to the linearized system dynamics\n",
    "<img src=\"images/F_1.png\" style=\"height=60%;width:60%\"/>\n",
    "I used the parameters for WGN - 34, 0.0001.\n",
    "\n",
    "#### Input 3 ([-0.13; 0.1; 0; 0])\n",
    "Error dynamics\n",
    "<img src=\"images/F_2.png\" style=\"height=70%;width:70%\"/>\n",
    "\n",
    "Controlled system dynamics\n",
    "<img src=\"images/F_3.png\" style=\"height=70%;width:70%\"/>\n",
    "\n",
    "As you can see, the system does not break too much with small variance and the controller make the system stable in some kind of \"sense of Lyapunov\" but it does not go somewhere in non stable positions (infinite).\n",
    "With bigger variances the system will have bigger amplitude but still be more or less stable but physically it is not possible since there are limitations on torque for example). ALso it is important to mention that the system cares about its theta position more than about its x position.\n",
    "\n",
    "#### Input 3 ([-0.13; 0.1; 0; 0])\n",
    "\n",
    "Error dynamics\n",
    "<img src=\"images/F_4.png\" style=\"height=70%;width:70%\"/>\n",
    "\n",
    "Controlled system dynamics\n",
    "<img src=\"images/F_5.png\" style=\"height=70%;width:70%\"/>\n",
    "_The same comments are applied here._"
   ]
  },
  {
   "cell_type": "markdown",
   "metadata": {},
   "source": [
    "## Task H (Kalman filter implementation)\n",
    "For this task I used Python and Numpy library. All the explanations are in the code comments. <br/>\n",
    "I read Wikipedia article (https://en.wikipedia.org/wiki/Kalman_filter) and used their approach for algorithm."
   ]
  },
  {
   "cell_type": "code",
   "execution_count": 65,
   "metadata": {},
   "outputs": [],
   "source": [
    "def predict(F, B, P, Q, x, u):\n",
    "    # a priori state estimate\n",
    "    x = F.dot(x) + B.dot(u)\n",
    "    # a priori covariance estimate\n",
    "    P = F.dot(P).dot(F.T) + Q\n",
    "    return x, P\n",
    "\n",
    "def update(x, P, z, H, R):\n",
    "    y = z - H.dot(x)\n",
    "    S = H.dot(P).dot(H.T) + R\n",
    "    # kalman gain\n",
    "    K = P.dot(H.T).dot(np.linalg.inv(S))\n",
    "    # a posteriori state estimate\n",
    "    x = x + K.dot(y)\n",
    "    # a posteriori covariance estimate\n",
    "    temp = K.dot(H)\n",
    "    P = (np.eye(temp.shape[0]) - temp).dot(P)\n",
    "    y = z - H.dot(x)\n",
    "    return x, y, P, S, K\n",
    "\n",
    "def kalman_filter(states, iterations, F, B, P, Q, R, inputs, H):\n",
    "    states = states.reshape(-1, 4, 1)\n",
    "    predicted = np.empty((iterations, states[0].shape[0], 1))\n",
    "    predicted[0] = states[0].reshape(4, 1)\n",
    "    x = predicted[0]\n",
    "    for i in range(iterations - 1):\n",
    "        (x, P) = predict(F, B, P, Q, x, inputs[i + 1])\n",
    "        #print(x)\n",
    "        (x, y, P, S, K) = update(x, P, states[i + 1], H, R)\n",
    "        #print(x)\n",
    "        predicted[i + 1] = x\n",
    "        \n",
    "    return predicted"
   ]
  },
  {
   "cell_type": "markdown",
   "metadata": {},
   "source": [
    "## Task I\n",
    "Here I use controlled inverted pendulum system. It was made discrete using matlab function **c2d**. You can find the matlab code in files."
   ]
  },
  {
   "cell_type": "code",
   "execution_count": 170,
   "metadata": {},
   "outputs": [],
   "source": [
    "from numpy.random import *\n",
    "from matplotlib import pyplot as plt\n",
    "\n",
    "A = np.array([[1.0103,    0.2175,   -0.3413,   -0.0693],\n",
    "         [0.1050,    1.1781,   -3.4268,   -0.6845],\n",
    "         [0.0279,    0.0474,    0.6062,    0.0463],\n",
    "         [0.3064,    0.5198,   -4.2887,   -0.4795]])\n",
    "\n",
    "B = np.array([[0.0368],\n",
    "    [0.3740],\n",
    "    [0.0996],\n",
    "    [1.0917]])\n",
    "\n",
    "P = np.diag((0.01, 0.01, 0.01, 0.01))\n",
    "Q = np.eye(4) * 0\n",
    "R = np.eye(4) \n",
    "H = np.eye(4)\n",
    "\n",
    "def test(iterations = 30, init=[0.2, 3, 1, 0.3]):\n",
    "    states = np.empty((iterations, 4))\n",
    "    real = np.empty((iterations, 4))\n",
    "    states[0] = init\n",
    "    real[0] = init\n",
    "    inputs = np.zeros(iterations)\n",
    "    for i in range(iterations - 1):\n",
    "        real[i + 1] = A.dot(real[i]) + abs(0.0 * randn(4))\n",
    "        states[i + 1] = abs(0.05 * randn(4)) + A.dot(real[i])\n",
    "\n",
    "    predicted = kalman_filter(states, iterations, A, B, P, Q, R, inputs, H).reshape(iterations, 4)\n",
    "\n",
    "\n",
    "    t = np.linspace(0, iterations * 0.2, iterations)\n",
    "    plt.plot(predicted.T[0].T, predicted.T[2].T, label=\"Predicted\")\n",
    "    plt.plot(real.T[0].T, real.T[2].T, label=\"Real\")\n",
    "    plt.scatter(states.T[0].T, states.T[2].T, s=3, color='red', label=\"Got\")\n",
    "    plt.legend()\n",
    "    plt.xlabel(\"$x$\")\n",
    "    plt.ylabel(\"$\\theta$\")"
   ]
  },
  {
   "cell_type": "code",
   "execution_count": 171,
   "metadata": {
    "scrolled": false
   },
   "outputs": [
    {
     "data": {
      "image/png": "[encoded data removed]",
      "text/plain": [
       "<Figure size 432x288 with 1 Axes>"
      ]
     },
     "metadata": {
      "needs_background": "light"
     },
     "output_type": "display_data"
    }
   ],
   "source": [
    "test()"
   ]
  },
  {
   "cell_type": "code",
   "execution_count": 172,
   "metadata": {
    "scrolled": false
   },
   "outputs": [
    {
     "data": {
      "image/png": "[encoded data removed]",
      "text/plain": [
       "<Figure size 432x288 with 1 Axes>"
      ]
     },
     "metadata": {
      "needs_background": "light"
     },
     "output_type": "display_data"
    }
   ],
   "source": [
    "test(init=[ 0.81084115, 0, 0,  2.41504627])"
   ]
  },
  {
   "cell_type": "markdown",
   "metadata": {},
   "source": [
    "As you can see, the Filter works perfectly!! I assumed that there is no noise in the system, only output noise."
   ]
  },
  {
   "cell_type": "markdown",
   "metadata": {},
   "source": [
    "## Task J"
   ]
  },
  {
   "cell_type": "code",
   "execution_count": null,
   "metadata": {},
   "outputs": [],
   "source": []
  }
 ],
 "metadata": {
  "kernelspec": {
   "display_name": "Python 3",
   "language": "python",
   "name": "python3"
  },
  "language_info": {
   "codemirror_mode": {
    "name": "ipython",
    "version": 3
   },
   "file_extension": ".py",
   "mimetype": "text/x-python",
   "name": "python",
   "nbconvert_exporter": "python",
   "pygments_lexer": "ipython3",
   "version": "3.7.3"
  }
 },
 "nbformat": 4,
 "nbformat_minor": 4
}
