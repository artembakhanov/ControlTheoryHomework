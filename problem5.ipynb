{
 "cells": [
  {
   "cell_type": "markdown",
   "metadata": {},
   "source": [
    "# Problem 5. (Assignment 1)"
   ]
  },
  {
   "cell_type": "markdown",
   "metadata": {},
   "source": [
    "## Introduction\n",
    "In this solution I assume that $x = \\begin{bmatrix} x\\\\x'\\\\...\\\\x^{n-1} \\end{bmatrix}$"
   ]
  },
  {
   "cell_type": "markdown",
   "metadata": {},
   "source": [
    "## Functions\n",
    "Here I define a function that gets an array of coefficients as an input an returns matrix A for SS model.\n"
   ]
  },
  {
   "cell_type": "code",
   "execution_count": 1,
   "metadata": {},
   "outputs": [],
   "source": [
    "import numpy as np"
   ]
  },
  {
   "cell_type": "code",
   "execution_count": 2,
   "metadata": {},
   "outputs": [],
   "source": [
    "def ode2matrix(a):\n",
    "    \"\"\"\n",
    "    Return A obtained from mult. a0...an\n",
    "    Test1:\n",
    "    >>> ode2matrix(np.array([0, 2, 4, 3, 1]))\n",
    "    array([[ 0.,  1.,  0.,  0.],\n",
    "           [ 0.,  0.,  1.,  0.],\n",
    "           [ 0.,  0.,  0.,  1.],\n",
    "           [ 0., -2., -4., -3.]])\n",
    "    \"\"\"\n",
    "    size = len(a)\n",
    "    # creating zeros for the first column\n",
    "    zeros = np.zeros((size - 2, 1)) \n",
    "    # the last row of A. normalization happens here\n",
    "    last_row = [-a[:-1] / a[-1]] \n",
    "    return np.block([[zeros, np.eye(size - 2)], last_row]) "
   ]
  },
  {
   "cell_type": "markdown",
   "metadata": {},
   "source": [
    "A function that returns a vector b for a given ODE."
   ]
  },
  {
   "cell_type": "code",
   "execution_count": 3,
   "metadata": {},
   "outputs": [],
   "source": [
    "def ode2b(a, b0):\n",
    "    \"\"\"\n",
    "    Return vector b for state space from a0...an and b0\n",
    "    Test1:\n",
    "    >>> ode2b(np.array([0, 2, 4, 3, 4]), 2)\n",
    "    array([[0. ],\n",
    "           [0. ],\n",
    "           [0. ],\n",
    "           [0.5]])\n",
    "    \"\"\"\n",
    "    return np.concatenate((np.zeros((len(a) - 2, 1)), np.array([[b0 / a[-1]]])))"
   ]
  },
  {
   "cell_type": "markdown",
   "metadata": {},
   "source": [
    "This is a function that returns a pair (A, b) for a given ODE. Note that $a$ should be a numpy array that begins with $a_0$ and ends with $a_n$. $b_0$ is right-hand constant. ODE: $$a_k y^{(k)} + a_{k-1} y^{(k-1)} + ... + a_2 y'' + a_1 y' + a_0 y = b_0$$"
   ]
  },
  {
   "cell_type": "code",
   "execution_count": 4,
   "metadata": {},
   "outputs": [],
   "source": [
    "def ode2ss(a, b0):\n",
    "    return ode2matrix(a), ode2b(a, b0)"
   ]
  },
  {
   "cell_type": "markdown",
   "metadata": {},
   "source": [
    "## Example\n",
    "$$-x''' + 5x'' + 3x' + 7x = 10$$"
   ]
  },
  {
   "cell_type": "code",
   "execution_count": 5,
   "metadata": {
    "scrolled": true
   },
   "outputs": [
    {
     "data": {
      "text/plain": [
       "(array([[0., 1., 0.],\n",
       "        [0., 0., 1.],\n",
       "        [7., 3., 5.]]), array([[  0.],\n",
       "        [  0.],\n",
       "        [-10.]]))"
      ]
     },
     "execution_count": 5,
     "metadata": {},
     "output_type": "execute_result"
    }
   ],
   "source": [
    "#ode2ss(np.array([0, 2, 4, 3, 1]), 6)\n",
    "ode2ss(np.array([7, 3, 5, -1]), 10)"
   ]
  },
  {
   "cell_type": "markdown",
   "metadata": {},
   "source": [
    "## Doctest\n",
    "This is a test section. Run it if you want to check if the code is working properly."
   ]
  },
  {
   "cell_type": "code",
   "execution_count": 6,
   "metadata": {
    "scrolled": false
   },
   "outputs": [
    {
     "name": "stdout",
     "output_type": "stream",
     "text": [
      "Trying:\n",
      "    ode2b(np.array([0, 2, 4, 3, 4]), 2)\n",
      "Expecting:\n",
      "    array([[0. ],\n",
      "           [0. ],\n",
      "           [0. ],\n",
      "           [0.5]])\n",
      "ok\n",
      "Trying:\n",
      "    ode2matrix(np.array([0, 2, 4, 3, 1]))\n",
      "Expecting:\n",
      "    array([[ 0.,  1.,  0.,  0.],\n",
      "           [ 0.,  0.,  1.,  0.],\n",
      "           [ 0.,  0.,  0.,  1.],\n",
      "           [ 0., -2., -4., -3.]])\n",
      "ok\n",
      "2 items had no tests:\n",
      "    __main__\n",
      "    __main__.ode2ss\n",
      "2 items passed all tests:\n",
      "   1 tests in __main__.ode2b\n",
      "   1 tests in __main__.ode2matrix\n",
      "2 tests in 4 items.\n",
      "2 passed and 0 failed.\n",
      "Test passed.\n"
     ]
    },
    {
     "data": {
      "text/plain": [
       "TestResults(failed=0, attempted=2)"
      ]
     },
     "execution_count": 6,
     "metadata": {},
     "output_type": "execute_result"
    }
   ],
   "source": [
    "import doctest\n",
    "doctest.testmod(verbose=True)"
   ]
  },
  {
   "cell_type": "code",
   "execution_count": 7,
   "metadata": {},
   "outputs": [],
   "source": [
    "#ode2matrix(np.array([7, 3, 5, -1]))\n",
    "#ode2matrix(np.array([0, 2, 4, 3, 1]))"
   ]
  },
  {
   "cell_type": "code",
   "execution_count": 8,
   "metadata": {},
   "outputs": [
    {
     "data": {
      "text/plain": [
       "array([[0. ],\n",
       "       [0. ],\n",
       "       [0. ],\n",
       "       [0.5]])"
      ]
     },
     "execution_count": 8,
     "metadata": {},
     "output_type": "execute_result"
    }
   ],
   "source": [
    "ode2b(np.array([0, 2, 4, 3, 4]), 2)"
   ]
  }
 ],
 "metadata": {
  "kernelspec": {
   "display_name": "Python 3",
   "language": "python",
   "name": "python3"
  },
  "language_info": {
   "codemirror_mode": {
    "name": "ipython",
    "version": 3
   },
   "file_extension": ".py",
   "mimetype": "text/x-python",
   "name": "python",
   "nbconvert_exporter": "python",
   "pygments_lexer": "ipython3",
   "version": "3.7.3"
  }
 },
 "nbformat": 4,
 "nbformat_minor": 2
}
